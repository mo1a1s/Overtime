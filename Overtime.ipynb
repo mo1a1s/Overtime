{
 "cells": [
  {
   "cell_type": "markdown",
   "metadata": {},
   "source": [
    "# Overtime "
   ]
  },
  {
   "cell_type": "code",
   "execution_count": 1,
   "metadata": {},
   "outputs": [],
   "source": [
    "import pandas as pd\n",
    "import numpy as np"
   ]
  },
  {
   "cell_type": "markdown",
   "metadata": {},
   "source": [
    "# Overtime Calculation for 7/3, 7/3, 7/4 "
   ]
  },
  {
   "cell_type": "code",
   "execution_count": 19,
   "metadata": {},
   "outputs": [],
   "source": [
    "def overtime(num):\n",
    "\n",
    "    employee = num\n",
    "\n",
    "    monthly_overtime = []\n",
    "    \n",
    "    g1 = employee / 4\n",
    "    g2 = employee / 4\n",
    "    g3 = employee / 4\n",
    "    g4 = employee / 4\n",
    "    \n",
    "    monthly_overtime = g1* 24 + g2*24 + g3*32 + g4*32\n",
    "\n",
    "    yearly_overtime = monthly_overtime * 12\n",
    "\n",
    "    print(monthly_overtime) \n",
    "    print(yearly_overtime) "
   ]
  },
  {
   "cell_type": "code",
   "execution_count": 20,
   "metadata": {},
   "outputs": [
    {
     "name": "stdout",
     "output_type": "stream",
     "text": [
      "2800.0\n",
      "33600.0\n"
     ]
    }
   ],
   "source": [
    "overtime(100)"
   ]
  },
  {
   "cell_type": "code",
   "execution_count": null,
   "metadata": {},
   "outputs": [],
   "source": []
  }
 ],
 "metadata": {
  "kernelspec": {
   "display_name": "Python 3",
   "language": "python",
   "name": "python3"
  },
  "language_info": {
   "codemirror_mode": {
    "name": "ipython",
    "version": 3
   },
   "file_extension": ".py",
   "mimetype": "text/x-python",
   "name": "python",
   "nbconvert_exporter": "python",
   "pygments_lexer": "ipython3",
   "version": "3.7.1"
  }
 },
 "nbformat": 4,
 "nbformat_minor": 2
}
